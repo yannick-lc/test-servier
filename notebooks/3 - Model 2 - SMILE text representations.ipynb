{
 "cells": [
  {
   "cell_type": "code",
   "execution_count": 1,
   "id": "689acd60",
   "metadata": {},
   "outputs": [],
   "source": [
    "%load_ext autoreload\n",
    "%autoreload 2"
   ]
  },
  {
   "cell_type": "code",
   "execution_count": 2,
   "id": "c2dcf8cd",
   "metadata": {},
   "outputs": [],
   "source": [
    "# Set active directory to project root and configure logging\n",
    "import os\n",
    "import logging\n",
    "from molecule.config import get_project_root_directory\n",
    "ROOT_PATH = get_project_root_directory()\n",
    "os.chdir(ROOT_PATH)\n",
    "logging.basicConfig(level=logging.INFO)"
   ]
  },
  {
   "cell_type": "code",
   "execution_count": 3,
   "id": "1212860c",
   "metadata": {},
   "outputs": [],
   "source": [
    "import numpy as np\n",
    "import pandas as pd\n",
    "import sklearn\n",
    "import matplotlib.pyplot as plt"
   ]
  },
  {
   "cell_type": "code",
   "execution_count": 4,
   "id": "255890ab",
   "metadata": {},
   "outputs": [
    {
     "name": "stderr",
     "output_type": "stream",
     "text": [
      "INFO:rdkit:Enabling RDKit 2022.03.4 jupyter extensions\n"
     ]
    }
   ],
   "source": [
    "from molecule.prediction.model import FeatureType\n",
    "from molecule.representation.dataset import Dataset"
   ]
  },
  {
   "cell_type": "markdown",
   "id": "2784be52",
   "metadata": {},
   "source": [
    "# Data and features imports"
   ]
  },
  {
   "cell_type": "markdown",
   "id": "6db38fbc",
   "metadata": {},
   "source": [
    "We import train and test datasets similarly to what we did previously."
   ]
  },
  {
   "cell_type": "code",
   "execution_count": 5,
   "id": "520a10b4",
   "metadata": {},
   "outputs": [],
   "source": [
    "dataset_train = Dataset(\"data/datasets/dataset_single_train.csv\")\n",
    "dataset_test = Dataset(\"data/datasets/dataset_single_test.csv\")"
   ]
  },
  {
   "cell_type": "markdown",
   "id": "5fc93689",
   "metadata": {},
   "source": [
    "This time, we will directly use the SMILE text representations to train a deep learning model. We still need to adopt some form of vectorized representation. The most straightforward one is to represent individual characters of the SMILE with one-hot encoding, so that a molecule is represented by a binary matrix of size (string_length, vocab_size)."
   ]
  },
  {
   "cell_type": "markdown",
   "id": "bdfb7865",
   "metadata": {},
   "source": [
    "We use 0-padding so that all samples in a dataset have the same length to be able to represent the features of a dataset as a rank 3 tensor.\n",
    "\n",
    "The fact that samples in the train and test datasets may have different padded lengths will not be an issue because of the nature of models used."
   ]
  },
  {
   "cell_type": "code",
   "execution_count": 6,
   "id": "041269d3",
   "metadata": {},
   "outputs": [
    {
     "name": "stdout",
     "output_type": "stream",
     "text": [
      "Size of training features: (3999, 74, 29)\n",
      "Size of test features: (1000, 68, 29)\n"
     ]
    }
   ],
   "source": [
    "X_train, y_train = dataset_train.get_features(FeatureType.SMILE), dataset_train.labels\n",
    "X_test, y_test = dataset_test.get_features(FeatureType.SMILE), dataset_test.labels\n",
    "print(f\"Size of training features: {X_train.shape}\")\n",
    "print(f\"Size of test features: {X_test.shape}\")"
   ]
  },
  {
   "cell_type": "markdown",
   "id": "d9fa1322",
   "metadata": {},
   "source": [
    "# Baselines"
   ]
  },
  {
   "cell_type": "markdown",
   "id": "9cd17ec0",
   "metadata": {},
   "source": [
    "## Naive Bayes"
   ]
  },
  {
   "cell_type": "code",
   "execution_count": 7,
   "id": "9098ec69",
   "metadata": {},
   "outputs": [],
   "source": [
    "from sklearn.naive_bayes import BernoulliNB, MultinomialNB\n",
    "from sklearn.metrics import classification_report, roc_auc_score, RocCurveDisplay, PrecisionRecallDisplay"
   ]
  },
  {
   "cell_type": "markdown",
   "id": "97bfc049",
   "metadata": {},
   "source": [
    "Let's compute basic features from the SMILE representation, for instance the presence of a character or its number of occurences."
   ]
  },
  {
   "cell_type": "code",
   "execution_count": 8,
   "id": "fe33d030",
   "metadata": {},
   "outputs": [],
   "source": [
    "# number of occurences per character for each sample\n",
    "X_train_character_count = X_train.sum(axis=1)\n",
    "X_test_character_count = X_test.sum(axis=1)"
   ]
  },
  {
   "cell_type": "code",
   "execution_count": 9,
   "id": "72bdb2da",
   "metadata": {},
   "outputs": [],
   "source": [
    "# whether a char is present at least once for each sample\n",
    "X_train_character_presence = X_train_character_count > 0\n",
    "X_test_character_presence = X_test_character_count > 0"
   ]
  },
  {
   "cell_type": "markdown",
   "id": "290adc6f",
   "metadata": {},
   "source": [
    "We can try to use a first naive bayes model based on the presence of a character in the SMILE representation."
   ]
  },
  {
   "cell_type": "code",
   "execution_count": 10,
   "id": "6d1cf07a",
   "metadata": {},
   "outputs": [
    {
     "data": {
      "text/plain": [
       "BernoulliNB(binarize=None)"
      ]
     },
     "execution_count": 10,
     "metadata": {},
     "output_type": "execute_result"
    }
   ],
   "source": [
    "naive_bayes_clf = BernoulliNB(binarize=None)\n",
    "naive_bayes_clf.fit(X_train_character_presence, y_train)"
   ]
  },
  {
   "cell_type": "code",
   "execution_count": 11,
   "id": "569a50b0",
   "metadata": {},
   "outputs": [],
   "source": [
    "predicted_proba = naive_bayes_clf.predict_proba(X_test_character_presence)[:,1]"
   ]
  },
  {
   "cell_type": "code",
   "execution_count": 12,
   "id": "26ef0d62",
   "metadata": {},
   "outputs": [
    {
     "name": "stdout",
     "output_type": "stream",
     "text": [
      "AUC: 0.666\n"
     ]
    }
   ],
   "source": [
    "auc = roc_auc_score(y_test, predicted_proba)\n",
    "print(f\"AUC: {auc:.3f}\")"
   ]
  },
  {
   "cell_type": "markdown",
   "id": "f672272a",
   "metadata": {},
   "source": [
    "The AUC is a bit lower than that of the models using Morgan fingerprints. This is not surprising, as the presence \n",
    "or absence of a character in the SMILE representation is a very basic feature."
   ]
  },
  {
   "cell_type": "markdown",
   "id": "eb1a0252",
   "metadata": {},
   "source": [
    "Let's try a model based on the character count instead, for insteance a naive bayes based on a multinomial distribution."
   ]
  },
  {
   "cell_type": "code",
   "execution_count": 13,
   "id": "c557802a",
   "metadata": {},
   "outputs": [
    {
     "data": {
      "text/plain": [
       "MultinomialNB()"
      ]
     },
     "execution_count": 13,
     "metadata": {},
     "output_type": "execute_result"
    }
   ],
   "source": [
    "multinomial_clf = MultinomialNB()\n",
    "multinomial_clf.fit(X_train_character_count, y_train)"
   ]
  },
  {
   "cell_type": "code",
   "execution_count": 14,
   "id": "91866df7",
   "metadata": {},
   "outputs": [
    {
     "name": "stdout",
     "output_type": "stream",
     "text": [
      "AUC: 0.724\n"
     ]
    }
   ],
   "source": [
    "predicted_proba = multinomial_clf.predict_proba(X_test_character_count)[:,1]\n",
    "auc = roc_auc_score(y_test, predicted_proba)\n",
    "print(f\"AUC: {auc:.3f}\")"
   ]
  },
  {
   "cell_type": "markdown",
   "id": "afb95e03",
   "metadata": {},
   "source": [
    "We have achieved performance as good as the one we obtained previously with the Morgan fingerprints, using very basic features and model. This suggests that Morgan fingerprints may not be the best features for our classification task."
   ]
  },
  {
   "cell_type": "markdown",
   "id": "4e83784a",
   "metadata": {},
   "source": [
    "## Random forest"
   ]
  },
  {
   "cell_type": "code",
   "execution_count": 15,
   "id": "0be0de0a",
   "metadata": {},
   "outputs": [],
   "source": [
    "from sklearn.model_selection import GridSearchCV\n",
    "from sklearn.ensemble import RandomForestClassifier"
   ]
  },
  {
   "cell_type": "markdown",
   "id": "d624eb01",
   "metadata": {},
   "source": [
    "Let's get a second, ideally better baseline based on this feature, leveraging potentially non-linear relations between the features and the target. We can use a random forest again."
   ]
  },
  {
   "cell_type": "code",
   "execution_count": 16,
   "id": "419b4377",
   "metadata": {},
   "outputs": [
    {
     "name": "stdout",
     "output_type": "stream",
     "text": [
      "CPU times: user 3.78 s, sys: 17.8 ms, total: 3.79 s\n",
      "Wall time: 3.79 s\n"
     ]
    },
    {
     "data": {
      "text/plain": [
       "GridSearchCV(estimator=RandomForestClassifier(random_state=42),\n",
       "             param_grid={'max_depth': [2, 5, 10, 20]}, scoring='roc_auc')"
      ]
     },
     "execution_count": 16,
     "metadata": {},
     "output_type": "execute_result"
    }
   ],
   "source": [
    "%%time\n",
    "hyperparameters = {\"max_depth\": [2, 5, 10, 20]}\n",
    "random_forest_clf = GridSearchCV(RandomForestClassifier(random_state=42),\n",
    "            hyperparameters, scoring=\"roc_auc\")\n",
    "random_forest_clf.fit(X_train_character_count, y_train)"
   ]
  },
  {
   "cell_type": "code",
   "execution_count": 17,
   "id": "fc76528d",
   "metadata": {},
   "outputs": [
    {
     "name": "stdout",
     "output_type": "stream",
     "text": [
      "Cross validation AUCs: [0.69085066 0.71217278 0.72318229 0.70489049]\n"
     ]
    }
   ],
   "source": [
    "aucs = random_forest_clf.cv_results_[\"mean_test_score\"]\n",
    "print(f\"Cross validation AUCs: {aucs}\")"
   ]
  },
  {
   "cell_type": "markdown",
   "id": "3b7879b3",
   "metadata": {},
   "source": [
    "Let's make predictions with the best hyperparameters (max_depth=10) with the model trained on the full training set."
   ]
  },
  {
   "cell_type": "code",
   "execution_count": 18,
   "id": "139f253a",
   "metadata": {},
   "outputs": [],
   "source": [
    "predicted_proba = random_forest_clf.predict_proba(X_test_character_count)[:,1]"
   ]
  },
  {
   "cell_type": "code",
   "execution_count": 19,
   "id": "7fcf60f4",
   "metadata": {},
   "outputs": [
    {
     "name": "stdout",
     "output_type": "stream",
     "text": [
      "AUC on test set: 0.739\n"
     ]
    }
   ],
   "source": [
    "auc = roc_auc_score(y_test, predicted_proba)\n",
    "print(f\"AUC on test set: {auc:.3f}\")"
   ]
  },
  {
   "cell_type": "markdown",
   "id": "eeee8cb0",
   "metadata": {},
   "source": [
    "This is a little bit but not drastically better than the results obtained with the multinomial naive bayes. This may be due to intrinsic limitations in the features we used."
   ]
  },
  {
   "cell_type": "markdown",
   "id": "4266fd45",
   "metadata": {},
   "source": [
    "Similarly, a LightGBM approach was also trained on these features. Results were not significantly better."
   ]
  },
  {
   "cell_type": "markdown",
   "id": "b111ca58",
   "metadata": {},
   "source": [
    "# Deep learning"
   ]
  },
  {
   "cell_type": "code",
   "execution_count": 24,
   "id": "9b61e650",
   "metadata": {},
   "outputs": [],
   "source": [
    "from sklearn.metrics import (\n",
    "    classification_report, roc_auc_score,\n",
    "    RocCurveDisplay, PrecisionRecallDisplay, ConfusionMatrixDisplay\n",
    ")\n",
    "from torch.utils.tensorboard import SummaryWriter"
   ]
  },
  {
   "cell_type": "code",
   "execution_count": 25,
   "id": "d4c324ba",
   "metadata": {},
   "outputs": [],
   "source": [
    "from molecule.prediction.model import Model\n",
    "from molecule.prediction.model import FeatureType\n",
    "import utils"
   ]
  },
  {
   "cell_type": "markdown",
   "id": "4084055b",
   "metadata": {},
   "source": [
    "A deep learning model may be able to learn subtle relationships between the input text and the target. Since the text is a sequence of characters of variable length, a recurrent neural network may be well-suited for this task. Specifically, we will use a multilayer LSTM."
   ]
  },
  {
   "cell_type": "markdown",
   "id": "b32ea0b1",
   "metadata": {},
   "source": [
    "The specific architecture is available in molecule.predictors.deep_architectures.ModelSmile. "
   ]
  },
  {
   "cell_type": "markdown",
   "id": "0ec25304",
   "metadata": {},
   "source": [
    "## Training"
   ]
  },
  {
   "cell_type": "code",
   "execution_count": 26,
   "id": "04a6815f",
   "metadata": {},
   "outputs": [
    {
     "name": "stderr",
     "output_type": "stream",
     "text": [
      "INFO:root:Using CUDA for training and inference.\n"
     ]
    }
   ],
   "source": [
    "model = Model(FeatureType.SMILE)"
   ]
  },
  {
   "cell_type": "markdown",
   "id": "3b7b9e4b",
   "metadata": {},
   "source": [
    "Let's train the model using the default training parameters defined in the architecture module. We monitor the evolution of the training and validation losses, as well as the validation AUC."
   ]
  },
  {
   "cell_type": "markdown",
   "id": "a5aedad7",
   "metadata": {},
   "source": [
    "**WARNING**: it is ***very strongly*** advised to have a GPU to train the model. Otherwise, you can load a pre-trained model using the provided functions and pre-trained models."
   ]
  },
  {
   "cell_type": "code",
   "execution_count": 27,
   "id": "dbc991ef",
   "metadata": {},
   "outputs": [
    {
     "name": "stderr",
     "output_type": "stream",
     "text": [
      "100%|██████████████████████████████████████████████████████████████████████████████████████████████████████████████████████████████████████████| 50/50 [00:13<00:00,  3.71it/s]\n"
     ]
    }
   ],
   "source": [
    "train_losses, val_losses, val_aucs = model.fit(X_train, y_train, validation_set_ratio=0.2)"
   ]
  },
  {
   "cell_type": "code",
   "execution_count": 28,
   "id": "7c2a3d70",
   "metadata": {},
   "outputs": [
    {
     "data": {
      "image/png": "[encoded data removed]",
      "text/plain": [
       "<Figure size 1152x288 with 3 Axes>"
      ]
     },
     "metadata": {
      "needs_background": "light"
     },
     "output_type": "display_data"
    }
   ],
   "source": [
    "utils.plot_training_curves(train_losses, val_losses, val_aucs)"
   ]
  },
  {
   "cell_type": "markdown",
   "id": "21715684",
   "metadata": {},
   "source": [
    "Note: the validation loss and AUC tended to increase if training continued for more than 15 epochs, so early stopping was used."
   ]
  },
  {
   "cell_type": "markdown",
   "id": "1c4e7018",
   "metadata": {},
   "source": [
    "## Performance evaluation"
   ]
  },
  {
   "cell_type": "code",
   "execution_count": 29,
   "id": "a1a20b8d",
   "metadata": {},
   "outputs": [],
   "source": [
    "predicted_proba = model.predict_proba(X_test)"
   ]
  },
  {
   "cell_type": "code",
   "execution_count": 34,
   "id": "b0ef9e5a",
   "metadata": {},
   "outputs": [
    {
     "data": {
      "image/png": "[encoded data removed]",
      "text/plain": [
       "<Figure size 360x360 with 1 Axes>"
      ]
     },
     "metadata": {
      "needs_background": "light"
     },
     "output_type": "display_data"
    }
   ],
   "source": [
    "fig = plt.figure(figsize=(5,5))\n",
    "plt.plot([0,1], [0,1], \"--k\");plt.title(\"ROC curve using SMILE text representation\")\n",
    "RocCurveDisplay.from_predictions(y_test, predicted_proba, ax=fig.axes[0])\n",
    "plt.show()"
   ]
  },
  {
   "cell_type": "markdown",
   "id": "5394a975",
   "metadata": {},
   "source": [
    "We obtain performance a bit higher than the approach using Morgan fingerprints."
   ]
  },
  {
   "cell_type": "markdown",
   "id": "e762de3d",
   "metadata": {},
   "source": [
    "We once again measure performance with a high decision threshold (with a threshold of 0.5, the model always predicts 1 similarly to previously)."
   ]
  },
  {
   "cell_type": "code",
   "execution_count": 31,
   "id": "ef0626ba",
   "metadata": {},
   "outputs": [],
   "source": [
    "predicted_class = model.predict(X_test, decision_threshold=0.95)"
   ]
  },
  {
   "cell_type": "code",
   "execution_count": 32,
   "id": "8ae8fc30",
   "metadata": {},
   "outputs": [
    {
     "name": "stdout",
     "output_type": "stream",
     "text": [
      "              precision    recall  f1-score   support\n",
      "\n",
      "           0       0.19      1.00      0.32       178\n",
      "           1       1.00      0.08      0.15       822\n",
      "\n",
      "    accuracy                           0.24      1000\n",
      "   macro avg       0.60      0.54      0.23      1000\n",
      "weighted avg       0.86      0.24      0.18      1000\n",
      "\n"
     ]
    }
   ],
   "source": [
    "print(classification_report(y_test, predicted_class))"
   ]
  },
  {
   "cell_type": "code",
   "execution_count": 33,
   "id": "b7a386a0",
   "metadata": {},
   "outputs": [
    {
     "data": {
      "image/png": "[encoded data removed]",
      "text/plain": [
       "<Figure size 432x288 with 2 Axes>"
      ]
     },
     "metadata": {
      "needs_background": "light"
     },
     "output_type": "display_data"
    }
   ],
   "source": [
    "ConfusionMatrixDisplay.from_predictions(y_test, predicted_class);"
   ]
  },
  {
   "cell_type": "markdown",
   "id": "805452cf",
   "metadata": {},
   "source": [
    "This time, all the samples predicted as \"positive\" are indeed positive. The difference may not be statistically significant though."
   ]
  },
  {
   "cell_type": "markdown",
   "id": "8866eac8",
   "metadata": {},
   "source": [
    "**Possible improvements:**\n",
    "- Improve the model architecture (for instance, use transformers, which enable to get very impressive results on language tasks with enough data).\n",
    "- Instead of one-hot encoding, learn dense representations for molecule components by training an embedding on a different task with more data (use transfer learning similarly to word embeddings).\n",
    "- Investigate completely different feature representations. For instance, graph-CNNs seem to be able to obtain good performance in molecule property predictions when applied to graph molecular structures."
   ]
  }
 ],
 "metadata": {
  "kernelspec": {
   "display_name": "Python 3 (ipykernel)",
   "language": "python",
   "name": "python3"
  },
  "language_info": {
   "codemirror_mode": {
    "name": "ipython",
    "version": 3
   },
   "file_extension": ".py",
   "mimetype": "text/x-python",
   "name": "python",
   "nbconvert_exporter": "python",
   "pygments_lexer": "ipython3",
   "version": "3.7.13"
  }
 },
 "nbformat": 4,
 "nbformat_minor": 5
}
