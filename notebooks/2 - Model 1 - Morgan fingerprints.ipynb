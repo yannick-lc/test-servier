{
 "cells": [
  {
   "cell_type": "code",
   "execution_count": 2,
   "id": "79a69f41",
   "metadata": {},
   "outputs": [],
   "source": [
    "# Set active directory to project root and configure logging\n",
    "import os\n",
    "import logging\n",
    "from molecule.config import get_project_root_directory\n",
    "ROOT_PATH = get_project_root_directory()\n",
    "os.chdir(ROOT_PATH)\n",
    "logging.basicConfig(level=logging.INFO)"
   ]
  },
  {
   "cell_type": "code",
   "execution_count": 3,
   "id": "c13a10d0",
   "metadata": {},
   "outputs": [],
   "source": [
    "import numpy as np\n",
    "import pandas as pd\n",
    "import sklearn\n",
    "import matplotlib.pyplot as plt"
   ]
  },
  {
   "cell_type": "code",
   "execution_count": 4,
   "id": "6127b8ba",
   "metadata": {},
   "outputs": [
    {
     "name": "stderr",
     "output_type": "stream",
     "text": [
      "INFO:rdkit:Enabling RDKit 2022.03.4 jupyter extensions\n"
     ]
    }
   ],
   "source": [
    "from molecule.prediction.model import FeatureType\n",
    "from molecule.representation.dataset import Dataset"
   ]
  },
  {
   "cell_type": "markdown",
   "id": "efa829ae",
   "metadata": {},
   "source": [
    "# Data and features imports"
   ]
  },
  {
   "cell_type": "code",
   "execution_count": 5,
   "id": "be3df1e1",
   "metadata": {},
   "outputs": [],
   "source": [
    "dataset_train = Dataset(\"data/datasets/dataset_single_train.csv\")\n",
    "dataset_test = Dataset(\"data/datasets/dataset_single_test.csv\")"
   ]
  },
  {
   "cell_type": "code",
   "execution_count": 6,
   "id": "e4918576",
   "metadata": {},
   "outputs": [
    {
     "name": "stdout",
     "output_type": "stream",
     "text": [
      "Size of training features: (3999, 2048)\n",
      "Size of test features: (1000, 2048)\n"
     ]
    }
   ],
   "source": [
    "X_train, y_train = dataset_train.get_features(FeatureType.MORGAN), dataset_train.labels\n",
    "X_test, y_test = dataset_test.get_features(FeatureType.MORGAN), dataset_test.labels\n",
    "print(f\"Size of training features: {X_train.shape}\")\n",
    "print(f\"Size of test features: {X_test.shape}\")"
   ]
  },
  {
   "cell_type": "markdown",
   "id": "a80bcdec",
   "metadata": {},
   "source": [
    "# Baselines"
   ]
  },
  {
   "cell_type": "markdown",
   "id": "12b93e70",
   "metadata": {},
   "source": [
    "Let's start by exploring a few baseline models."
   ]
  },
  {
   "cell_type": "markdown",
   "id": "3b17715d",
   "metadata": {},
   "source": [
    "## Naive Bayes"
   ]
  },
  {
   "cell_type": "code",
   "execution_count": 8,
   "id": "c4147e24",
   "metadata": {},
   "outputs": [],
   "source": [
    "from sklearn.naive_bayes import BernoulliNB\n",
    "from sklearn.metrics import classification_report, roc_auc_score, RocCurveDisplay, PrecisionRecallDisplay"
   ]
  },
  {
   "cell_type": "markdown",
   "id": "dc061264",
   "metadata": {},
   "source": [
    "Since the features are binary, it is tempting to start by training a naive bayes model based on a Bernouilli distribution."
   ]
  },
  {
   "cell_type": "code",
   "execution_count": 9,
   "id": "fec5a28b",
   "metadata": {},
   "outputs": [
    {
     "data": {
      "text/plain": [
       "BernoulliNB(binarize=None)"
      ]
     },
     "execution_count": 9,
     "metadata": {},
     "output_type": "execute_result"
    }
   ],
   "source": [
    "naive_bayes_clf = BernoulliNB(binarize=None)\n",
    "naive_bayes_clf.fit(X_train, y_train)"
   ]
  },
  {
   "cell_type": "code",
   "execution_count": 10,
   "id": "f854bd7f",
   "metadata": {},
   "outputs": [],
   "source": [
    "predicted_proba = naive_bayes_clf.predict_proba(X_test)[:,1]\n",
    "predicted_class = naive_bayes_clf.predict(X_test)"
   ]
  },
  {
   "cell_type": "markdown",
   "id": "7d066013",
   "metadata": {},
   "source": [
    "Let's look at the performance of this first model."
   ]
  },
  {
   "cell_type": "code",
   "execution_count": 11,
   "id": "b595d34a",
   "metadata": {},
   "outputs": [
    {
     "name": "stdout",
     "output_type": "stream",
     "text": [
      "              precision    recall  f1-score   support\n",
      "\n",
      "           0       0.32      0.49      0.39       178\n",
      "           1       0.88      0.77      0.82       822\n",
      "\n",
      "    accuracy                           0.72      1000\n",
      "   macro avg       0.60      0.63      0.60      1000\n",
      "weighted avg       0.78      0.72      0.74      1000\n",
      "\n"
     ]
    }
   ],
   "source": [
    "print(classification_report(y_test, predicted_class))"
   ]
  },
  {
   "cell_type": "markdown",
   "id": "091ce4fb",
   "metadata": {},
   "source": [
    "The accuracy (72%) is not better than that of the naive \"yes\" model predicting always 1 (82%). This is not so surprising, as we saw that the dataset is imbalanced and the task seems challenging."
   ]
  },
  {
   "cell_type": "markdown",
   "id": "48208ddd",
   "metadata": {},
   "source": [
    "This model has better precision (88%) than the \"yes\" model, but worse recall (77%), hence the impact on the accuracy."
   ]
  },
  {
   "cell_type": "markdown",
   "id": "2c39b835",
   "metadata": {},
   "source": [
    "Let's see if the naive bayes still captures some information regarding the distribution of the label with respect to the training features. We can use a ROC curve."
   ]
  },
  {
   "cell_type": "code",
   "execution_count": 12,
   "id": "f2db88b8",
   "metadata": {},
   "outputs": [
    {
     "data": {
      "image/png": "[encoded data removed]",
      "text/plain": [
       "<Figure size 360x360 with 1 Axes>"
      ]
     },
     "metadata": {
      "needs_background": "light"
     },
     "output_type": "display_data"
    }
   ],
   "source": [
    "fig = plt.figure(figsize=(5,5))\n",
    "plt.plot([0,1], [0,1], \"--k\");plt.title(\"ROC curve\")\n",
    "RocCurveDisplay.from_predictions(y_test, predicted_proba, ax=fig.axes[0])\n",
    "plt.show()"
   ]
  },
  {
   "cell_type": "markdown",
   "id": "796dbac5",
   "metadata": {},
   "source": [
    "The model performs significantly better than the random baseline or the \"yes\" model."
   ]
  },
  {
   "cell_type": "markdown",
   "id": "cb122370",
   "metadata": {},
   "source": [
    "The Naive Bayes model is good at identifying positive samples (bottom left), but not so good at identifying negative samples (top right).\n",
    "We can expect a good precision for high decision thresholds."
   ]
  },
  {
   "cell_type": "markdown",
   "id": "00b9edd3",
   "metadata": {},
   "source": [
    "Let's have a look at the full precision recall curve."
   ]
  },
  {
   "cell_type": "code",
   "execution_count": 13,
   "id": "68d9213d",
   "metadata": {},
   "outputs": [
    {
     "data": {
      "image/png": "[encoded data removed]",
      "text/plain": [
       "<Figure size 360x360 with 1 Axes>"
      ]
     },
     "metadata": {
      "needs_background": "light"
     },
     "output_type": "display_data"
    }
   ],
   "source": [
    "fig = plt.figure(figsize=(5,5))\n",
    "plt.ylim([-.05,1.05]);plt.title(\"Precision-recall curve\")\n",
    "PrecisionRecallDisplay.from_predictions(y_test, predicted_proba, ax=fig.axes[0])\n",
    "plt.show()"
   ]
  },
  {
   "cell_type": "markdown",
   "id": "1f856fd0",
   "metadata": {},
   "source": [
    "As we expected based on the ROC curve earlier, the model is good at identifying the P1 property with high certainty for some samples."
   ]
  },
  {
   "cell_type": "markdown",
   "id": "7771cdd7",
   "metadata": {},
   "source": [
    "We can try training more complex models."
   ]
  },
  {
   "cell_type": "markdown",
   "id": "d239addb",
   "metadata": {},
   "source": [
    "## Random forest"
   ]
  },
  {
   "cell_type": "code",
   "execution_count": 14,
   "id": "9d28667d",
   "metadata": {},
   "outputs": [],
   "source": [
    "from sklearn.model_selection import GridSearchCV\n",
    "from sklearn.ensemble import RandomForestClassifier"
   ]
  },
  {
   "cell_type": "markdown",
   "id": "a4346a11",
   "metadata": {},
   "source": [
    "Let's train a random forest, so that we can model more complex relationships between features."
   ]
  },
  {
   "cell_type": "markdown",
   "id": "3b7e5a43",
   "metadata": {},
   "source": [
    "We'll use a grid search cross-validation to select the hyper-parameters. We will use the auc as our objective metric. To simplify thing, we'll only focus on the max tree depth."
   ]
  },
  {
   "cell_type": "code",
   "execution_count": 15,
   "id": "2d20e89c",
   "metadata": {},
   "outputs": [
    {
     "name": "stdout",
     "output_type": "stream",
     "text": [
      "CPU times: user 17.4 s, sys: 90 ms, total: 17.5 s\n",
      "Wall time: 17.5 s\n"
     ]
    },
    {
     "data": {
      "text/plain": [
       "GridSearchCV(estimator=RandomForestClassifier(random_state=42),\n",
       "             param_grid={'max_depth': [2, 5, 10, 20]}, scoring='roc_auc')"
      ]
     },
     "execution_count": 15,
     "metadata": {},
     "output_type": "execute_result"
    }
   ],
   "source": [
    "%%time\n",
    "hyperparameters = {\"max_depth\": [2, 5, 10, 20]}\n",
    "random_forest_clf = GridSearchCV(RandomForestClassifier(random_state=42),\n",
    "            hyperparameters, scoring=\"roc_auc\")\n",
    "random_forest_clf.fit(X_train, y_train)"
   ]
  },
  {
   "cell_type": "code",
   "execution_count": 16,
   "id": "5401ec9d",
   "metadata": {},
   "outputs": [
    {
     "name": "stdout",
     "output_type": "stream",
     "text": [
      "Cross validation AUCs: [0.65720342 0.67000207 0.67302744 0.66308584]\n"
     ]
    }
   ],
   "source": [
    "aucs = random_forest_clf.cv_results_[\"mean_test_score\"]\n",
    "print(f\"Cross validation AUCs: {aucs}\")"
   ]
  },
  {
   "cell_type": "markdown",
   "id": "f837e678",
   "metadata": {},
   "source": [
    "Let's make predictions with the best hyperparameters (max_depth=5) with the model trained on the full training set."
   ]
  },
  {
   "cell_type": "code",
   "execution_count": 17,
   "id": "accd9a99",
   "metadata": {},
   "outputs": [],
   "source": [
    "predicted_proba = random_forest_clf.predict_proba(X_test)[:,1]"
   ]
  },
  {
   "cell_type": "code",
   "execution_count": 18,
   "id": "5b88edff",
   "metadata": {},
   "outputs": [
    {
     "name": "stdout",
     "output_type": "stream",
     "text": [
      "AUC on test set: 0.693\n"
     ]
    }
   ],
   "source": [
    "auc = roc_auc_score(y_test, predicted_proba)\n",
    "print(f\"AUC on test set: {auc:.3f}\")"
   ]
  },
  {
   "cell_type": "markdown",
   "id": "066d2e66",
   "metadata": {},
   "source": [
    "We do not have better results than with the naive bayes. This may suggest that there is not much more signal to extract from the data."
   ]
  },
  {
   "cell_type": "markdown",
   "id": "abd33899",
   "metadata": {},
   "source": [
    "## LightGBM"
   ]
  },
  {
   "cell_type": "code",
   "execution_count": 19,
   "id": "e55a956d",
   "metadata": {},
   "outputs": [],
   "source": [
    "import lightgbm as lgb\n",
    "from sklearn.model_selection import train_test_split"
   ]
  },
  {
   "cell_type": "markdown",
   "id": "6ca871eb",
   "metadata": {},
   "source": [
    "Let's try a final \"baseline\" before the deep learning approach: the gradient-boosting approach LightGBM has the advantage of being fast, typically offer good performance, and does not usually require much hyper-parameter tuning."
   ]
  },
  {
   "cell_type": "markdown",
   "id": "99abba20",
   "metadata": {},
   "source": [
    "Let's further split the training dataset into 1 training and 1 validation set, so that we can use the validation to do early stopping (other hyper-parameters have been played with and do not have much impact on the final score)."
   ]
  },
  {
   "cell_type": "code",
   "execution_count": 20,
   "id": "1a1b6b3f",
   "metadata": {},
   "outputs": [
    {
     "name": "stdout",
     "output_type": "stream",
     "text": [
      "Size of training features: (3499, 2048)\n",
      "Size of validation features: (500, 2048)\n"
     ]
    }
   ],
   "source": [
    "X_train_, X_val_, y_train_, y_val_ = train_test_split(X_train, y_train, test_size=0.125, random_state=42)\n",
    "print(f\"Size of training features: {X_train_.shape}\")\n",
    "print(f\"Size of validation features: {X_val_.shape}\")"
   ]
  },
  {
   "cell_type": "code",
   "execution_count": 21,
   "id": "ec7dc079",
   "metadata": {},
   "outputs": [],
   "source": [
    "train_data = lgb.Dataset(X_train_, label=y_train_)\n",
    "validation_data = lgb.Dataset(X_val_, label=y_val_)"
   ]
  },
  {
   "cell_type": "markdown",
   "id": "4aa2b5ad",
   "metadata": {},
   "source": [
    "Now we can train the model."
   ]
  },
  {
   "cell_type": "code",
   "execution_count": 22,
   "id": "20403ede",
   "metadata": {},
   "outputs": [
    {
     "name": "stdout",
     "output_type": "stream",
     "text": [
      "[LightGBM] [Info] Number of positive: 2878, number of negative: 621\n"
     ]
    },
    {
     "name": "stderr",
     "output_type": "stream",
     "text": [
      "/home/yannick/miniconda3/envs/servier/lib/python3.7/site-packages/lightgbm/engine.py:181: UserWarning: 'early_stopping_rounds' argument is deprecated and will be removed in a future release of LightGBM. Pass 'early_stopping()' callback via 'callbacks' argument instead.\n",
      "  _log_warning(\"'early_stopping_rounds' argument is deprecated and will be removed in a future release of LightGBM. \"\n"
     ]
    },
    {
     "name": "stdout",
     "output_type": "stream",
     "text": [
      "[LightGBM] [Warning] Auto-choosing row-wise multi-threading, the overhead of testing was 0.031400 seconds.\n",
      "You can set `force_row_wise=true` to remove the overhead.\n",
      "And if memory is not enough, you can set `force_col_wise=true`.\n",
      "[LightGBM] [Info] Total Bins 2498\n",
      "[LightGBM] [Info] Number of data points in the train set: 3499, number of used features: 1249\n",
      "[LightGBM] [Info] [binary:BoostFromScore]: pavg=0.822521 -> initscore=1.533520\n",
      "[LightGBM] [Info] Start training from score 1.533520\n",
      "[1]\tvalid_0's auc: 0.585664\n",
      "Training until validation scores don't improve for 5 rounds\n",
      "[2]\tvalid_0's auc: 0.642876\n",
      "[3]\tvalid_0's auc: 0.646646\n",
      "[4]\tvalid_0's auc: 0.649257\n",
      "[5]\tvalid_0's auc: 0.658261\n",
      "[6]\tvalid_0's auc: 0.652773\n",
      "[7]\tvalid_0's auc: 0.655264\n",
      "[8]\tvalid_0's auc: 0.667799\n",
      "[9]\tvalid_0's auc: 0.671808\n",
      "[10]\tvalid_0's auc: 0.670237\n",
      "Did not meet early stopping. Best iteration is:\n",
      "[9]\tvalid_0's auc: 0.671808\n"
     ]
    }
   ],
   "source": [
    "param = {\"num_leaves\": 30, \"objective\": \"binary\", \"metric\": \"auc\"}\n",
    "bst = lgb.train(param, train_data, 10, valid_sets=[validation_data], early_stopping_rounds=5)"
   ]
  },
  {
   "cell_type": "markdown",
   "id": "e568df27",
   "metadata": {},
   "source": [
    "Let's evaluate the result on the test set."
   ]
  },
  {
   "cell_type": "code",
   "execution_count": 23,
   "id": "0d1b1b37",
   "metadata": {},
   "outputs": [
    {
     "name": "stdout",
     "output_type": "stream",
     "text": [
      "Auc: 0.686\n"
     ]
    }
   ],
   "source": [
    "predicted_proba = bst.predict(X_test)\n",
    "auc = roc_auc_score(y_test, predicted_proba)\n",
    "print(f\"Auc: {auc:.3f}\")"
   ]
  },
  {
   "cell_type": "markdown",
   "id": "83bbb5ca",
   "metadata": {},
   "source": [
    "Again, we don't observe any improvement over the naive bayes baseline. This constinues to suggest that achieving much higher performance will be challenging."
   ]
  },
  {
   "cell_type": "markdown",
   "id": "d6337791",
   "metadata": {},
   "source": [
    "# Deep learning model"
   ]
  },
  {
   "cell_type": "code",
   "execution_count": 7,
   "id": "789ba673",
   "metadata": {},
   "outputs": [],
   "source": [
    "from sklearn.metrics import (\n",
    "    classification_report, roc_auc_score,\n",
    "    RocCurveDisplay, PrecisionRecallDisplay, ConfusionMatrixDisplay\n",
    ")"
   ]
  },
  {
   "cell_type": "code",
   "execution_count": 8,
   "id": "15dd0c7c",
   "metadata": {},
   "outputs": [],
   "source": [
    "from molecule.prediction.model import Model\n",
    "from molecule.prediction.model import FeatureType\n",
    "import utils"
   ]
  },
  {
   "cell_type": "markdown",
   "id": "e0eb1722",
   "metadata": {},
   "source": [
    "Let's now try a deep learning model, as specified in the instructions."
   ]
  },
  {
   "cell_type": "markdown",
   "id": "1f715b73",
   "metadata": {},
   "source": [
    "The architecture is described in molecule.predictors.deep_architectures.ModelMorgan. To summarize, the model consists in a 3-layer fully-connected neural network, with dropout. It was inspired by [1], who used a similar architecture on a similar task.\n",
    "\n",
    "[1] Yoshimori et al., Prediction of Molecular Properties Using Molecular Topographic Map, Molecule, 2021 (https://www.ncbi.nlm.nih.gov/pmc/articles/PMC8348331/)"
   ]
  },
  {
   "cell_type": "markdown",
   "id": "c7d327ba",
   "metadata": {},
   "source": [
    "## Training"
   ]
  },
  {
   "cell_type": "code",
   "execution_count": 9,
   "id": "3c738f3b",
   "metadata": {},
   "outputs": [
    {
     "name": "stderr",
     "output_type": "stream",
     "text": [
      "INFO:root:Using CUDA for training and inference.\n"
     ]
    }
   ],
   "source": [
    "model = Model(FeatureType.MORGAN)"
   ]
  },
  {
   "cell_type": "markdown",
   "id": "7ae60cb8",
   "metadata": {},
   "source": [
    "Let's train the model using the default training parameters defined in the architecture module. We will monitor the evolution of the training and validation losses, as well as the validation AUC."
   ]
  },
  {
   "cell_type": "markdown",
   "id": "ea7ccc5c",
   "metadata": {},
   "source": [
    "**WARNING**: it is advised to have a GPU to train the model. Otherwise, you can load a pre-trained model using the provided functions and pre-trained models."
   ]
  },
  {
   "cell_type": "code",
   "execution_count": 10,
   "id": "97064451",
   "metadata": {},
   "outputs": [
    {
     "name": "stderr",
     "output_type": "stream",
     "text": [
      "100%|████████████████████████████████████████████████████████████████████████████████████████████████████████████████████████████████████████| 100/100 [00:05<00:00, 18.68it/s]\n"
     ]
    }
   ],
   "source": [
    "train_losses, val_losses, val_aucs = model.fit(X_train, y_train, validation_set_ratio=0.2)"
   ]
  },
  {
   "cell_type": "code",
   "execution_count": 11,
   "id": "f5f03241",
   "metadata": {},
   "outputs": [
    {
     "data": {
      "image/png": "[encoded data removed]",
      "text/plain": [
       "<Figure size 1152x288 with 3 Axes>"
      ]
     },
     "metadata": {
      "needs_background": "light"
     },
     "output_type": "display_data"
    }
   ],
   "source": [
    "utils.plot_training_curves(train_losses, val_losses, val_aucs)"
   ]
  },
  {
   "cell_type": "markdown",
   "id": "136969ab",
   "metadata": {},
   "source": [
    "## Performance evaluation"
   ]
  },
  {
   "cell_type": "markdown",
   "id": "8ff4e77f",
   "metadata": {},
   "source": [
    "Let's measure the final performance of the model. We will start with the AUC, which is our main metric for this task."
   ]
  },
  {
   "cell_type": "code",
   "execution_count": 12,
   "id": "d2e810fa",
   "metadata": {},
   "outputs": [],
   "source": [
    "predicted_proba = model.predict_proba(X_test)"
   ]
  },
  {
   "cell_type": "code",
   "execution_count": 13,
   "id": "f2a501a0",
   "metadata": {},
   "outputs": [
    {
     "data": {
      "image/png": "[encoded data removed]",
      "text/plain": [
       "<Figure size 360x360 with 1 Axes>"
      ]
     },
     "metadata": {
      "needs_background": "light"
     },
     "output_type": "display_data"
    }
   ],
   "source": [
    "fig = plt.figure(figsize=(5,5))\n",
    "plt.plot([0,1], [0,1], \"--k\");plt.title(\"ROC curve using Morgan fingerprints\")\n",
    "RocCurveDisplay.from_predictions(y_test, predicted_proba, ax=fig.axes[0])\n",
    "plt.show()"
   ]
  },
  {
   "cell_type": "markdown",
   "id": "945acb7d",
   "metadata": {},
   "source": [
    "The AUC (0.72) is a bit higher than what we obtained with the other models, although not drastically higher."
   ]
  },
  {
   "cell_type": "markdown",
   "id": "c71a3350",
   "metadata": {},
   "source": [
    "Let's also look at the performance if we discretize the predictions."
   ]
  },
  {
   "cell_type": "code",
   "execution_count": 14,
   "id": "fb48910b",
   "metadata": {},
   "outputs": [],
   "source": [
    "predicted_class = model.predict(X_test)"
   ]
  },
  {
   "cell_type": "code",
   "execution_count": 15,
   "id": "43b19895",
   "metadata": {},
   "outputs": [
    {
     "name": "stdout",
     "output_type": "stream",
     "text": [
      "              precision    recall  f1-score   support\n",
      "\n",
      "           0       0.00      0.00      0.00       178\n",
      "           1       0.82      1.00      0.90       822\n",
      "\n",
      "    accuracy                           0.82      1000\n",
      "   macro avg       0.41      0.50      0.45      1000\n",
      "weighted avg       0.68      0.82      0.74      1000\n",
      "\n"
     ]
    },
    {
     "name": "stderr",
     "output_type": "stream",
     "text": [
      "/home/yannick/miniconda3/envs/servier/lib/python3.7/site-packages/sklearn/metrics/_classification.py:1318: UndefinedMetricWarning: Precision and F-score are ill-defined and being set to 0.0 in labels with no predicted samples. Use `zero_division` parameter to control this behavior.\n",
      "  _warn_prf(average, modifier, msg_start, len(result))\n",
      "/home/yannick/miniconda3/envs/servier/lib/python3.7/site-packages/sklearn/metrics/_classification.py:1318: UndefinedMetricWarning: Precision and F-score are ill-defined and being set to 0.0 in labels with no predicted samples. Use `zero_division` parameter to control this behavior.\n",
      "  _warn_prf(average, modifier, msg_start, len(result))\n",
      "/home/yannick/miniconda3/envs/servier/lib/python3.7/site-packages/sklearn/metrics/_classification.py:1318: UndefinedMetricWarning: Precision and F-score are ill-defined and being set to 0.0 in labels with no predicted samples. Use `zero_division` parameter to control this behavior.\n",
      "  _warn_prf(average, modifier, msg_start, len(result))\n"
     ]
    }
   ],
   "source": [
    "print(classification_report(y_test, predicted_class))"
   ]
  },
  {
   "cell_type": "code",
   "execution_count": 16,
   "id": "44c28e1e",
   "metadata": {},
   "outputs": [
    {
     "name": "stdout",
     "output_type": "stream",
     "text": [
      "Ratio of predicted 1s: 1.000\n"
     ]
    }
   ],
   "source": [
    "print(f\"Ratio of predicted 1s: {predicted_class.mean():.3f}\")"
   ]
  },
  {
   "cell_type": "markdown",
   "id": "7472e595",
   "metadata": {},
   "source": [
    "Funnily enough, the model only predicts 1s, hence the recall of 1, and the precision equal to the accuracy equal to the ratio of 1s in the dataset."
   ]
  },
  {
   "cell_type": "markdown",
   "id": "ae5b474e",
   "metadata": {},
   "source": [
    "This is not super surprising, as the model mostly contains 1s and as evidenced by the angles at the extremities of the ROC curve, the model is better at identifying molecules with high probability of having property P1 than molecules with low probability."
   ]
  },
  {
   "cell_type": "markdown",
   "id": "c1032acd",
   "metadata": {},
   "source": [
    "## Performance with higher decision threshold"
   ]
  },
  {
   "cell_type": "markdown",
   "id": "454ce1ec",
   "metadata": {},
   "source": [
    "The model may still be useful though, as it can be used to identify molecules with higher probability than average of having property P1. This can be evidenced by the precision recall curve:"
   ]
  },
  {
   "cell_type": "code",
   "execution_count": 17,
   "id": "f12514fd",
   "metadata": {},
   "outputs": [
    {
     "data": {
      "image/png": "[encoded data removed]",
      "text/plain": [
       "<Figure size 360x360 with 1 Axes>"
      ]
     },
     "metadata": {
      "needs_background": "light"
     },
     "output_type": "display_data"
    }
   ],
   "source": [
    "fig = plt.figure(figsize=(5,5))\n",
    "plt.ylim([-.05,1.05]);plt.title(\"Precision-recall curve\")\n",
    "PrecisionRecallDisplay.from_predictions(y_test, predicted_proba, ax=fig.axes[0])\n",
    "plt.show()"
   ]
  },
  {
   "cell_type": "markdown",
   "id": "ec9aad00",
   "metadata": {},
   "source": [
    "Let's change the decision threshold to identify such molecules."
   ]
  },
  {
   "cell_type": "code",
   "execution_count": 18,
   "id": "629d79e4",
   "metadata": {},
   "outputs": [],
   "source": [
    "predicted_class = model.predict(X_test, decision_threshold=0.95)"
   ]
  },
  {
   "cell_type": "code",
   "execution_count": 19,
   "id": "d937fe7d",
   "metadata": {},
   "outputs": [
    {
     "name": "stdout",
     "output_type": "stream",
     "text": [
      "              precision    recall  f1-score   support\n",
      "\n",
      "           0       0.19      0.99      0.32       178\n",
      "           1       0.98      0.08      0.14       822\n",
      "\n",
      "    accuracy                           0.24      1000\n",
      "   macro avg       0.59      0.54      0.23      1000\n",
      "weighted avg       0.84      0.24      0.17      1000\n",
      "\n"
     ]
    }
   ],
   "source": [
    "print(classification_report(y_test, predicted_class))"
   ]
  },
  {
   "cell_type": "code",
   "execution_count": 20,
   "id": "d13abda5",
   "metadata": {},
   "outputs": [
    {
     "data": {
      "image/png": "[encoded data removed]",
      "text/plain": [
       "<Figure size 432x288 with 2 Axes>"
      ]
     },
     "metadata": {
      "needs_background": "light"
     },
     "output_type": "display_data"
    }
   ],
   "source": [
    "ConfusionMatrixDisplay.from_predictions(y_test, predicted_class);"
   ]
  },
  {
   "cell_type": "markdown",
   "id": "5cae1e4d",
   "metadata": {},
   "source": [
    "Here, we have identified 64 promising molecules, 63 of which (i.e. 98%) have the desired property, as opposed to 82% in the rest of the dataset."
   ]
  },
  {
   "cell_type": "markdown",
   "id": "f933f72e",
   "metadata": {},
   "source": [
    "As a final note, other deep learning architectures have been tested, and yielded comparable results."
   ]
  },
  {
   "cell_type": "markdown",
   "id": "c4985947",
   "metadata": {},
   "source": [
    "*Post-final note: in general, I would not advise using this deep learning model on this task in production. Similar performance could very likely be achieved by fine-tuning a simpler model, without the added complexity of defining the architecture, performing stochastic gradient etc and needing GPUs for fast training).*"
   ]
  }
 ],
 "metadata": {
  "kernelspec": {
   "display_name": "Python 3 (ipykernel)",
   "language": "python",
   "name": "python3"
  },
  "language_info": {
   "codemirror_mode": {
    "name": "ipython",
    "version": 3
   },
   "file_extension": ".py",
   "mimetype": "text/x-python",
   "name": "python",
   "nbconvert_exporter": "python",
   "pygments_lexer": "ipython3",
   "version": "3.7.13"
  }
 },
 "nbformat": 4,
 "nbformat_minor": 5
}
